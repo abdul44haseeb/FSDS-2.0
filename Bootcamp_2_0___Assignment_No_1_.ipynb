{
  "nbformat": 4,
  "nbformat_minor": 0,
  "metadata": {
    "colab": {
      "provenance": []
    },
    "kernelspec": {
      "name": "python3",
      "display_name": "Python 3"
    },
    "language_info": {
      "name": "python"
    }
  },
  "cells": [
    {
      "cell_type": "markdown",
      "source": [],
      "metadata": {
        "id": "6yLWGqdt7Psw"
      }
    },
    {
      "cell_type": "markdown",
      "source": [
        "#                      **Bootcamp 2.0 | Assignment No:1**\n",
        "\n",
        "\n",
        "\n"
      ],
      "metadata": {
        "id": "DQMC8zLc6t84"
      }
    },
    {
      "cell_type": "markdown",
      "source": [
        "# Question # 1 : Take input A and B as numbers from the user and print the Sum , Div , Mul and square of input numbers."
      ],
      "metadata": {
        "id": "qd_lzQKlFcKj"
      }
    },
    {
      "cell_type": "code",
      "source": [
        "A = input(\"Enter the value of number A: \")\n",
        "B = input(\"Enter the value of number B: \")\n",
        "C = input(\"Enter the operation : + , / , * , **\")\n",
        "if C == '+':\n",
        "  print(f\"The sum of the numbers is {float(A) + float(B)}\")\n",
        "elif C == \"/\":\n",
        "  print(f\"The quotient of the numbers is {float(A) / float(B)}\")\n",
        "elif C == \"*\":  \n",
        "  print(f\"The product of the numbers is {float(A) * float(B)}\")\n",
        "elif C == \"**\":  \n",
        "  print(f\"The exponent of the numbers is {float(A) ** float(B)}\") \n"
      ],
      "metadata": {
        "colab": {
          "base_uri": "https://localhost:8080/"
        },
        "id": "vmJbj1j0GFXE",
        "outputId": "b94ff344-1eb7-4341-fdb9-38e66d048cb6"
      },
      "execution_count": 6,
      "outputs": [
        {
          "output_type": "stream",
          "name": "stdout",
          "text": [
            "Enter the value of number A: 7\n",
            "Enter the value of number B: 8\n",
            "Enter the operation : + , / , * , **/\n",
            "The quotient of the numbers is 0.875\n"
          ]
        }
      ]
    },
    {
      "cell_type": "code",
      "source": [],
      "metadata": {
        "id": "Ei8Jn8XTIe5D"
      },
      "execution_count": null,
      "outputs": []
    },
    {
      "cell_type": "markdown",
      "source": [
        "# Question # 2 : How many reserve keywords are there in Python. why we should not use them as variable name ?\n"
      ],
      "metadata": {
        "id": "0fUIiEDXyLPh"
      }
    },
    {
      "cell_type": "markdown",
      "source": [
        "In Python 3.10 version, there are 35 reserved keywords:\n",
        "False, None, True, and, as, assert, async, await, break, class, continue, def, del, elif, else, except, finally, for, from, global, if, import, in, is, lambda, nonlocal, not, or, pass, raise, return, try, while, with, yield\n",
        "\n",
        "These reserved keywords have predefined meanings and are used to define the syntax and structure of the Python language. They cannot be used as variable names in Python programs. If we try to use a reserved keyword as a variable name or any other identifier name, we will get a syntax error.\n",
        "\n",
        "For example, if you try to define a variable with the name if in your Python program, you will get a syntax error:\n",
        "\n",
        "if = 10  # SyntaxError: invalid syntax\n",
        "\n",
        "Therefore, it is recommended to avoid using reserved keywords as variable names to avoid any conflicts and ensure the readability and clarity of your code."
      ],
      "metadata": {
        "id": "0W8O9JOGyQd4"
      }
    },
    {
      "cell_type": "markdown",
      "source": [
        "# Question # 3: Create outputs from user inputs in the following formats : lastname.firstname@gmail.com Hi I am Sunny My address is 22/3 I earn 200K $ per month."
      ],
      "metadata": {
        "id": "tiemDhQyzWAR"
      }
    },
    {
      "cell_type": "code",
      "source": [
        "First_Name = input(\"Enter your first name : \")\n",
        "Last_Name = input(\"Enter your last name : \")\n",
        "Address = input(\"Enter your address: \")\n",
        "Earnings = input(\"Enter your earnings per month in dollars: \")\n",
        "print(f\"email address is : {First_Name}_{Last_Name}@gmail.com\")\n",
        "print(f\"Hi I am {First_Name}\")\n",
        "print(f\"My address is {Address}\")\n",
        "print(f\"I earn {Earnings}$ per month\")"
      ],
      "metadata": {
        "colab": {
          "base_uri": "https://localhost:8080/"
        },
        "id": "XOqErHZnzXvX",
        "outputId": "5f6a6826-70ed-4e79-9a9d-23f05f92bfff"
      },
      "execution_count": 8,
      "outputs": [
        {
          "output_type": "stream",
          "name": "stdout",
          "text": [
            "Enter your first name : abdul\n",
            "Enter your last name : haseeb\n",
            "Enter your address: 11/11\n",
            "Enter your earnings per month in dollars: 200\n",
            "email address is : abdul_haseeb@gmail.com\n",
            "Hi I am abdul\n",
            "My address is 11/11\n",
            "I earn 200$ per month\n"
          ]
        }
      ]
    },
    {
      "cell_type": "code",
      "source": [],
      "metadata": {
        "id": "qZmQRnu807YI"
      },
      "execution_count": null,
      "outputs": []
    },
    {
      "cell_type": "markdown",
      "source": [
        "# Quesion #4: Take user input to fill a form ( Name, address , date of birth) for their college and print their email ids"
      ],
      "metadata": {
        "id": "zJ-3HdzD3CuQ"
      }
    },
    {
      "cell_type": "code",
      "source": [
        "Name = input(\"Enter your full name: \")\n",
        "Address = input(\"Enter your address: \")\n",
        "DOB = input(\"Enter your date of birth: \")\n",
        "Email = input(\"Enter you email address: \")\n",
        "print(f\"Name : {Name}\")\n",
        "print(f\"Address : {Address}\")\n",
        "print(f\"Date of Birth: \")\n",
        "print(Email)\n"
      ],
      "metadata": {
        "colab": {
          "base_uri": "https://localhost:8080/"
        },
        "id": "hUCpqoVW3EAQ",
        "outputId": "a580b80c-fff7-438b-ea76-0e5e985f8699"
      },
      "execution_count": 12,
      "outputs": [
        {
          "output_type": "stream",
          "name": "stdout",
          "text": [
            "Enter your full name: abdul\n",
            "Enter your address: haseeb\n",
            "Enter your date of birth: 11/11\n",
            "Enter you email address: admin@gmail.com\n",
            "Name : abdul\n",
            "Address : haseeb\n",
            "Date of Birth: \n",
            "admin@gmail.com\n"
          ]
        }
      ]
    },
    {
      "cell_type": "code",
      "source": [],
      "metadata": {
        "id": "cRYD3-eR3w6Y"
      },
      "execution_count": null,
      "outputs": []
    },
    {
      "cell_type": "markdown",
      "source": [
        "# Question # 5 Convert the following - \"22.4\" into integer ; \"22\" into complex no:"
      ],
      "metadata": {
        "id": "-bEnWuhZ4nkY"
      }
    },
    {
      "cell_type": "code",
      "source": [
        "A = \"22.4\"\n",
        "type(A)\n",
        "A = float(A)\n",
        "A = int(A)\n",
        "type(A)"
      ],
      "metadata": {
        "colab": {
          "base_uri": "https://localhost:8080/"
        },
        "id": "Um1-Sh_O4uY5",
        "outputId": "195e0479-436d-481b-fdb8-fec12dfdc14b"
      },
      "execution_count": 17,
      "outputs": [
        {
          "output_type": "execute_result",
          "data": {
            "text/plain": [
              "int"
            ]
          },
          "metadata": {},
          "execution_count": 17
        }
      ]
    },
    {
      "cell_type": "code",
      "source": [
        "A = 22\n",
        "A = complex(A)\n",
        "type(A)"
      ],
      "metadata": {
        "colab": {
          "base_uri": "https://localhost:8080/"
        },
        "id": "xCo7xIV240VW",
        "outputId": "764a73f9-8507-4549-b90d-18993377aff4"
      },
      "execution_count": 19,
      "outputs": [
        {
          "output_type": "execute_result",
          "data": {
            "text/plain": [
              "complex"
            ]
          },
          "metadata": {},
          "execution_count": 19
        }
      ]
    }
  ]
}